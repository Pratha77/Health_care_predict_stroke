{
  "cells": [
    {
      "cell_type": "code",
      "execution_count": null,
      "metadata": {
        "id": "BZtjdOUxAHaw"
      },
      "outputs": [],
      "source": [
        "import pandas as pd                                    # for reading csv file\n",
        "import matplotlib.pyplot as plt                        # for data visualization\n",
        "from sklearn import tree\n",
        "import numpy as np                                     # for linear algebra"
      ]
    },
    {
      "cell_type": "code",
      "execution_count": null,
      "metadata": {
        "id": "CgUxAiIGAHa0"
      },
      "outputs": [],
      "source": [
        "def create_piechart(data, column):\n",
        "    \"\"\"\n",
        "    objective: Create piechart for categorical varaibles present in pandas Dataframe\n",
        "\n",
        "    parameter:\n",
        "        data: this is pandas dataframe\n",
        "        colimn: thie is column name which is used to create plot\n",
        "\n",
        "    return:\n",
        "        this will show piechart\n",
        "    \"\"\"\n",
        "    labels = list(data[column].value_counts().to_dict().keys())\n",
        "    sizes = list(data[column].value_counts().to_dict().values())\n",
        "\n",
        "    plt.pie(sizes,\n",
        "           labels=labels,\n",
        "           autopct='%1.2f%%',\n",
        "           shadow=False,\n",
        "           startangle=45)\n",
        "\n",
        "    plt.axis('equal')\n",
        "    plt.title(\"Piechart - {}\".format(column))\n",
        "    plt.show()\n",
        "\n",
        "\n",
        "\n",
        "def check_missing_value(data):\n",
        "    \"\"\"\n",
        "    Objective: Check missing value count and percentage in all columns\n",
        "\n",
        "    data: input data frame\n",
        "    return: Missing value data frame\n",
        "    \"\"\"\n",
        "    total = data.isnull().sum().sort_values(ascending=False)\n",
        "    percent= (data.isnull().sum()/data.isnull().count() *100).sort_values(ascending=False)\n",
        "    missing_data = pd.concat([total,percent],axis=1,keys=['Total','Percent'])\n",
        "    return missing_data"
      ]
    },
    {
      "cell_type": "code",
      "execution_count": null,
      "metadata": {
        "id": "mfn0DuxeAHa2"
      },
      "outputs": [],
      "source": [
        "df =  pd.read_csv(\"Data/health_care_data.csv\")\n",
        "df.head()"
      ]
    },
    {
      "cell_type": "code",
      "execution_count": null,
      "metadata": {
        "id": "OmkmKg-GAHa4"
      },
      "outputs": [],
      "source": [
        "df.isnull().sum()"
      ]
    },
    {
      "cell_type": "code",
      "execution_count": null,
      "metadata": {
        "id": "m2p_tQL7AHa5"
      },
      "outputs": [],
      "source": [
        "df.dtypes"
      ]
    },
    {
      "cell_type": "code",
      "execution_count": null,
      "metadata": {
        "id": "CHQMaB1yAHa5"
      },
      "outputs": [],
      "source": [
        "miss = check_missing_value (df)\n",
        "miss"
      ]
    },
    {
      "cell_type": "code",
      "execution_count": null,
      "metadata": {
        "id": "1vDe04QgAHa6"
      },
      "outputs": [],
      "source": [
        "colname_cat=[]\n",
        "for x in df.columns:\n",
        "    if df[x].dtypes=='object':\n",
        "        colname_cat.append(x)\n",
        "colname_cat"
      ]
    },
    {
      "cell_type": "code",
      "execution_count": null,
      "metadata": {
        "id": "BsvZNhtqAHa7"
      },
      "outputs": [],
      "source": [
        "colname1 = [\"bmi\"]\n",
        "\n",
        "for x in colname1:\n",
        "    df[x].fillna(df[x].mode()[0],inplace=True)"
      ]
    },
    {
      "cell_type": "code",
      "execution_count": null,
      "metadata": {
        "id": "U0LqDU2LAHa7"
      },
      "outputs": [],
      "source": [
        "df.isnull().sum()"
      ]
    },
    {
      "cell_type": "code",
      "execution_count": null,
      "metadata": {
        "id": "zj33PON1AHa8"
      },
      "outputs": [],
      "source": [
        "from sklearn import preprocessing\n",
        "\n",
        "le=preprocessing.LabelEncoder()\n",
        "\n",
        "for x in colname_cat:\n",
        "    df[x]=le.fit_transform(df[x])\n",
        "    le_name= dict(zip(le.classes_, le.transform(le.classes_)))\n",
        "    print(\"Feature: \",x)\n",
        "    print(\"Mapping: \", le_name)"
      ]
    },
    {
      "cell_type": "code",
      "execution_count": null,
      "metadata": {
        "id": "C0XO0kMIAHa9"
      },
      "outputs": [],
      "source": [
        "df"
      ]
    },
    {
      "cell_type": "code",
      "execution_count": null,
      "metadata": {
        "id": "V_UnU1dBAHa9"
      },
      "outputs": [],
      "source": [
        "X=df.values[:, :-1]\n",
        "y=df.values[:,  -1]"
      ]
    },
    {
      "cell_type": "code",
      "execution_count": null,
      "metadata": {
        "id": "nVX79mrHAHa-"
      },
      "outputs": [],
      "source": [
        "from sklearn.model_selection import train_test_split\n",
        "\n",
        "X_train, X_test, y_train, y_test = train_test_split(X,\n",
        "                                                    y,\n",
        "                                                    test_size=0.3,\n",
        "                                                    random_state=10)"
      ]
    },
    {
      "cell_type": "code",
      "execution_count": null,
      "metadata": {
        "id": "TbBdAtfKAHa-"
      },
      "outputs": [],
      "source": [
        "from sklearn.preprocessing import StandardScaler, MinMaxScaler\n",
        "\n",
        "scaler = StandardScaler()\n",
        "\n",
        "scaler.fit(X_train)\n",
        "\n",
        "X_train_scale = scaler.transform(X_train)\n",
        "X_test_scale = scaler.transform(X_test)\n",
        "print(X_train_scale.shape, y_train.shape)\n",
        "print(X_test_scale.shape, y_test.shape)"
      ]
    },
    {
      "cell_type": "code",
      "execution_count": null,
      "metadata": {
        "id": "vUbw87DKAHa_"
      },
      "outputs": [],
      "source": [
        "from sklearn import tree"
      ]
    },
    {
      "cell_type": "code",
      "execution_count": null,
      "metadata": {
        "id": "1wcCD3NRAHa_"
      },
      "outputs": [],
      "source": [
        "from sklearn.tree import DecisionTreeClassifier\n",
        "\n",
        "model_dt = DecisionTreeClassifier(criterion='entropy',random_state=30, min_samples_leaf=20, max_depth=10)\n",
        "\n",
        "model_dt.fit(X_train_scale, y_train)"
      ]
    },
    {
      "cell_type": "code",
      "execution_count": null,
      "metadata": {
        "id": "X7TAEJykAHbA"
      },
      "outputs": [],
      "source": [
        "model_dt.get_depth()"
      ]
    },
    {
      "cell_type": "code",
      "execution_count": null,
      "metadata": {
        "id": "_9QN3aRjAHbA"
      },
      "outputs": [],
      "source": [
        "y_pred= model_dt.predict(X_test_scale)\n",
        "\n",
        "print(list(zip(y_test, y_pred)))"
      ]
    },
    {
      "cell_type": "code",
      "execution_count": null,
      "metadata": {
        "id": "HsQm9p9eAHbA"
      },
      "outputs": [],
      "source": [
        "from sklearn.metrics import confusion_matrix, accuracy_score, classification_report\n",
        "\n",
        "\n",
        "print(confusion_matrix(y_test,y_pred))\n",
        "\n",
        "print(classification_report(y_test,y_pred))\n",
        "\n",
        "print(accuracy_score(y_test, y_pred))"
      ]
    },
    {
      "cell_type": "code",
      "execution_count": null,
      "metadata": {
        "id": "3jDl3gghAHbB"
      },
      "outputs": [],
      "source": [
        "from sklearn.metrics import confusion_matrix, accuracy_score, classification_report\n",
        "\n",
        "\n",
        "print(confusion_matrix(y_test,y_pred))\n",
        "\n",
        "print(classification_report(y_test,y_pred))\n",
        "\n",
        "print(accuracy_score(y_test, y_pred))"
      ]
    },
    {
      "cell_type": "code",
      "execution_count": null,
      "metadata": {
        "id": "1Am_h4TAAHbB"
      },
      "outputs": [],
      "source": [
        "from sklearn.tree import DecisionTreeClassifier\n",
        "dtree = DecisionTreeClassifier(criterion='entropy',random_state=30, min_samples_leaf=20, max_depth=10)\n",
        "dtree"
      ]
    },
    {
      "cell_type": "code",
      "execution_count": null,
      "metadata": {
        "id": "m7dTnw1SAHbC"
      },
      "outputs": [],
      "source": [
        "dtree.fit(X_train, y_train)"
      ]
    },
    {
      "cell_type": "code",
      "execution_count": null,
      "metadata": {
        "id": "4PnfVlTwAHbC"
      },
      "outputs": [],
      "source": [
        "print(\"Training Accuarcy:\", dtree.score(X_train,y_train))"
      ]
    },
    {
      "cell_type": "code",
      "execution_count": null,
      "metadata": {
        "id": "Bl3FuGjyAHbD"
      },
      "outputs": [],
      "source": []
    },
    {
      "cell_type": "markdown",
      "metadata": {
        "id": "sjueQ-h0AHbD"
      },
      "source": [
        "### Random Forest"
      ]
    },
    {
      "cell_type": "code",
      "execution_count": null,
      "metadata": {
        "id": "VxVCY2BHAHbF"
      },
      "outputs": [],
      "source": [
        "from sklearn.ensemble import RandomForestClassifier\n",
        "rfc = RandomForestClassifier(criterion='entropy',random_state=30, min_samples_leaf=20, max_depth=10)"
      ]
    },
    {
      "cell_type": "code",
      "execution_count": null,
      "metadata": {
        "id": "0kZrBwSnAHbF"
      },
      "outputs": [],
      "source": [
        "rfc.fit(X_train, y_train)"
      ]
    },
    {
      "cell_type": "code",
      "execution_count": null,
      "metadata": {
        "id": "nzUDsruRAHbG"
      },
      "outputs": [],
      "source": [
        "print(\"Training accuracy: \",rfc.score(X_train,y_train))"
      ]
    },
    {
      "cell_type": "code",
      "execution_count": null,
      "metadata": {
        "id": "V14_76oMAHbH"
      },
      "outputs": [],
      "source": [
        "rfc.fit(X_test, y_test)"
      ]
    },
    {
      "cell_type": "code",
      "execution_count": null,
      "metadata": {
        "id": "Rer4NHacAHbH"
      },
      "outputs": [],
      "source": [
        "print(\"Training accuracy: \",rfc.score(X_test,y_test))"
      ]
    }
  ],
  "metadata": {
    "kernelspec": {
      "display_name": "Python 3",
      "language": "python",
      "name": "python3"
    },
    "language_info": {
      "codemirror_mode": {
        "name": "ipython",
        "version": 3
      },
      "file_extension": ".py",
      "mimetype": "text/x-python",
      "name": "python",
      "nbconvert_exporter": "python",
      "pygments_lexer": "ipython3",
      "version": "3.7.6"
    },
    "colab": {
      "provenance": []
    }
  },
  "nbformat": 4,
  "nbformat_minor": 0
}